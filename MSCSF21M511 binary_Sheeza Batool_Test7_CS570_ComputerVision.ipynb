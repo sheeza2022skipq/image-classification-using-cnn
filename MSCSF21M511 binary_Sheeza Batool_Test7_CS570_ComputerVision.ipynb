{
 "cells": [
  {
   "cell_type": "markdown",
   "metadata": {
    "id": "99uzECDycBC9"
   },
   "source": [
    "# <center>CS570:Computer Vision</center>  <center>Fall 2021</center> \n",
    "## Recitation 7 - Test 7\n",
    "\n",
    "<br/><br/><br/>\n",
    "**Total marks**: 20 marks\n",
    "\n",
    "**Deadline**: 4 February, 2022 before 8:00 am\n",
    "<br/><br/><br/><br/>\n",
    "\n",
    "**Name**: \n",
    "\n",
    "**Roll Number**: \n",
    "\n"
   ]
  },
  {
   "cell_type": "markdown",
   "metadata": {
    "id": "ritZk-FbfRKv"
   },
   "source": [
    "**Q:** Solve any multiclass classification problem using CNN.\n",
    "\n",
    "**Problem**: ?\n",
    "\n",
    "**Dataset**: ?\n",
    "\n",
    "**Classes**: ?\n",
    "\n",
    "**Training samples**: ?\n",
    " \n",
    "**Testing samples**:  ?\n",
    "\n",
    "\n",
    "<table> \n",
    "    <tr>\n",
    "        <td>\n",
    "        <b></b>\n",
    "        </td>\n",
    "        <td>\n",
    "        <b>Optimizer</b>\n",
    "        </td>\n",
    "        <td>\n",
    "        <b>Epochs</b>\n",
    "        </td>\n",
    "        <td>\n",
    "        <b>Batch size</b>\n",
    "        </td>\n",
    "        <td>\n",
    "        <b>Training accuracy</b>\n",
    "        </td> \n",
    "          <td>\n",
    "        <b>Testing accuracy</b>\n",
    "        </td>         \n",
    "    </tr>\n",
    "       <tr>\n",
    "        <td>\n",
    "        <b>Model</b>\n",
    "        </td>\n",
    "        <td>\n",
    "        <b>?</b>\n",
    "        </td>\n",
    "        <td>\n",
    "        <b>?</b>\n",
    "        </td>\n",
    "        <td>\n",
    "        <b>?</b>\n",
    "        </td>\n",
    "        <td>\n",
    "        <b>?</b>\n",
    "        </td> \n",
    "          <td>\n",
    "        <b>?</b>\n",
    "        </td>         \n",
    "    </tr>\n",
    "</table>"
   ]
  },
  {
   "cell_type": "code",
   "execution_count": null,
   "metadata": {
    "id": "IyMhJY5hfRKx"
   },
   "outputs": [],
   "source": [
    "### add code here"
   ]
  }
 ],
 "metadata": {
  "colab": {
   "collapsed_sections": [],
   "name": "MSCSF21XXX_NAME_Test7_CS570_ComputerVision.ipynb",
   "provenance": []
  },
  "kernelspec": {
   "display_name": "Python 3 (ipykernel)",
   "language": "python",
   "name": "python3"
  },
  "language_info": {
   "codemirror_mode": {
    "name": "ipython",
    "version": 3
   },
   "file_extension": ".py",
   "mimetype": "text/x-python",
   "name": "python",
   "nbconvert_exporter": "python",
   "pygments_lexer": "ipython3",
   "version": "3.9.7"
  }
 },
 "nbformat": 4,
 "nbformat_minor": 1
}
